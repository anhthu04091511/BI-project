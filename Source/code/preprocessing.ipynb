{
 "cells": [
  {
   "cell_type": "markdown",
   "metadata": {},
   "source": [
    "# 1. Import thư viện"
   ]
  },
  {
   "cell_type": "code",
   "execution_count": 1,
   "metadata": {},
   "outputs": [],
   "source": [
    "import time\n",
    "import pickle\n",
    "import numpy as np\n",
    "import pandas as pd\n",
    "pd.options.mode.chained_assignment = None\n",
    "\n",
    "import seaborn as sns\n",
    "import matplotlib.pyplot as plt\n",
    "%matplotlib inline\n",
    "\n",
    "from tensorflow import keras\n",
    "from keras.models import Sequential\n",
    "from keras.preprocessing.text import Tokenizer\n",
    "from keras.layers import Embedding, Flatten, Dense, concatenate\n",
    "from keras_preprocessing.sequence import pad_sequences\n",
    "\n",
    "from sklearn.model_selection import train_test_split\n",
    "\n",
    "from sklearn.preprocessing import LabelEncoder"
   ]
  },
  {
   "cell_type": "code",
   "execution_count": 2,
   "metadata": {},
   "outputs": [],
   "source": [
    "def read_pickle_file(file_path):\n",
    "    with open(file_path, 'rb') as file:\n",
    "        data = pickle.load(file)\n",
    "    return data\n",
    "\n",
    "def save_to_pickle_file(data, file_path):\n",
    "    with open(file_path, 'wb') as file:\n",
    "        pickle.dump(data, file)"
   ]
  },
  {
   "cell_type": "markdown",
   "metadata": {},
   "source": [
    "# 2. Load dữ liệu và tiền xử lý dữ liệu"
   ]
  },
  {
   "cell_type": "markdown",
   "metadata": {},
   "source": [
    "| Field          | Description                                      |\n",
    "| -------------- | ------------------------------------------------ |\n",
    "| id             | ID của căn hộ                                    |\n",
    "| category       | Danh mục                                         |\n",
    "| title          | Tiêu đề của bài đăng cho thuê nhà               |\n",
    "| body           | Mô tả của căn hộ                                 |\n",
    "| amenities      | Các tiện ích như AC, basketball, cable, gym, internet access, pool, refrigerator, vv. |\n",
    "| bathrooms      | Số phòng tắm                                     |\n",
    "| bedrooms       | Số phòng ngủ                                     |\n",
    "| currency       | Đơn vị tính (USD)                                |\n",
    "| fee            | Phí (có hoặc không có phí phát sinh)             |\n",
    "| has_photo      | Có hình hay không hay thumbnail                  |\n",
    "| pets_allowed   | Những con thú nào được cho phép nuôi, ví dụ: dogs/cats, vv. |\n",
    "| price          | Giá cho thuê của căn hộ                           |\n",
    "| price_display  | Giá hiển thị khi render (giống với price)       |\n",
    "| price_type     | Cách thanh toán (hàng tháng or hàng tuần)         |\n",
    "| square_feet    | Kích thước căn hộ (mét vuông)                    |\n",
    "| source         | Nguồn thu thập dữ liệu (các trang web)           |\n",
    "| time           | Ngày tạo bài viết                                |\n",
    "| address        | Địa chỉ số nhà tên đường                          |\n",
    "| cityname       | Thành phố                                         |\n",
    "| state          | Tiểu bang                                        |\n",
    "| latitude       | Vĩ độ                                            |\n",
    "| longitude      | Kinh độ                                           |"
   ]
  },
  {
   "cell_type": "markdown",
   "metadata": {},
   "source": [
    "## 2.1 Load dữ liệu"
   ]
  },
  {
   "cell_type": "code",
   "execution_count": 3,
   "metadata": {},
   "outputs": [
    {
     "data": {
      "text/html": [
       "<div>\n",
       "<style scoped>\n",
       "    .dataframe tbody tr th:only-of-type {\n",
       "        vertical-align: middle;\n",
       "    }\n",
       "\n",
       "    .dataframe tbody tr th {\n",
       "        vertical-align: top;\n",
       "    }\n",
       "\n",
       "    .dataframe thead th {\n",
       "        text-align: right;\n",
       "    }\n",
       "</style>\n",
       "<table border=\"1\" class=\"dataframe\">\n",
       "  <thead>\n",
       "    <tr style=\"text-align: right;\">\n",
       "      <th></th>\n",
       "      <th>category</th>\n",
       "      <th>title</th>\n",
       "      <th>body</th>\n",
       "      <th>amenities</th>\n",
       "      <th>bathrooms</th>\n",
       "      <th>bedrooms</th>\n",
       "      <th>currency</th>\n",
       "      <th>fee</th>\n",
       "      <th>has_photo</th>\n",
       "      <th>pets_allowed</th>\n",
       "      <th>...</th>\n",
       "      <th>price_display</th>\n",
       "      <th>price_type</th>\n",
       "      <th>square_feet</th>\n",
       "      <th>address</th>\n",
       "      <th>cityname</th>\n",
       "      <th>state</th>\n",
       "      <th>latitude</th>\n",
       "      <th>longitude</th>\n",
       "      <th>source</th>\n",
       "      <th>time</th>\n",
       "    </tr>\n",
       "    <tr>\n",
       "      <th>id</th>\n",
       "      <th></th>\n",
       "      <th></th>\n",
       "      <th></th>\n",
       "      <th></th>\n",
       "      <th></th>\n",
       "      <th></th>\n",
       "      <th></th>\n",
       "      <th></th>\n",
       "      <th></th>\n",
       "      <th></th>\n",
       "      <th></th>\n",
       "      <th></th>\n",
       "      <th></th>\n",
       "      <th></th>\n",
       "      <th></th>\n",
       "      <th></th>\n",
       "      <th></th>\n",
       "      <th></th>\n",
       "      <th></th>\n",
       "      <th></th>\n",
       "      <th></th>\n",
       "    </tr>\n",
       "  </thead>\n",
       "  <tbody>\n",
       "    <tr>\n",
       "      <th>5668640009</th>\n",
       "      <td>housing/rent/apartment</td>\n",
       "      <td>One BR 507 &amp; 509 Esplanade</td>\n",
       "      <td>This unit is located at 507 &amp; 509 Esplanade, R...</td>\n",
       "      <td>NaN</td>\n",
       "      <td>1.0</td>\n",
       "      <td>1.0</td>\n",
       "      <td>USD</td>\n",
       "      <td>No</td>\n",
       "      <td>Thumbnail</td>\n",
       "      <td>Cats</td>\n",
       "      <td>...</td>\n",
       "      <td>$2,195</td>\n",
       "      <td>Monthly</td>\n",
       "      <td>542</td>\n",
       "      <td>507  509 Esplanade</td>\n",
       "      <td>Redondo Beach</td>\n",
       "      <td>CA</td>\n",
       "      <td>33.8520</td>\n",
       "      <td>-118.3759</td>\n",
       "      <td>RentLingo</td>\n",
       "      <td>1577360355</td>\n",
       "    </tr>\n",
       "    <tr>\n",
       "      <th>5668639818</th>\n",
       "      <td>housing/rent/apartment</td>\n",
       "      <td>Three BR 146 Lochview Drive</td>\n",
       "      <td>This unit is located at 146 Lochview Drive, Ne...</td>\n",
       "      <td>NaN</td>\n",
       "      <td>1.5</td>\n",
       "      <td>3.0</td>\n",
       "      <td>USD</td>\n",
       "      <td>No</td>\n",
       "      <td>Thumbnail</td>\n",
       "      <td>Cats,Dogs</td>\n",
       "      <td>...</td>\n",
       "      <td>$1,250</td>\n",
       "      <td>Monthly</td>\n",
       "      <td>1500</td>\n",
       "      <td>146 Lochview Dr</td>\n",
       "      <td>Newport News</td>\n",
       "      <td>VA</td>\n",
       "      <td>37.0867</td>\n",
       "      <td>-76.4941</td>\n",
       "      <td>RentLingo</td>\n",
       "      <td>1577360340</td>\n",
       "    </tr>\n",
       "    <tr>\n",
       "      <th>5668639686</th>\n",
       "      <td>housing/rent/apartment</td>\n",
       "      <td>Three BR 3101 Morningside Drive</td>\n",
       "      <td>This unit is located at 3101 Morningside Drive...</td>\n",
       "      <td>NaN</td>\n",
       "      <td>2.0</td>\n",
       "      <td>3.0</td>\n",
       "      <td>USD</td>\n",
       "      <td>No</td>\n",
       "      <td>Thumbnail</td>\n",
       "      <td>NaN</td>\n",
       "      <td>...</td>\n",
       "      <td>$1,395</td>\n",
       "      <td>Monthly</td>\n",
       "      <td>1650</td>\n",
       "      <td>3101 Morningside Dr</td>\n",
       "      <td>Raleigh</td>\n",
       "      <td>NC</td>\n",
       "      <td>35.8230</td>\n",
       "      <td>-78.6438</td>\n",
       "      <td>RentLingo</td>\n",
       "      <td>1577360332</td>\n",
       "    </tr>\n",
       "    <tr>\n",
       "      <th>5668639659</th>\n",
       "      <td>housing/rent/apartment</td>\n",
       "      <td>Two BR 209 Aegean Way</td>\n",
       "      <td>This unit is located at 209 Aegean Way, Vacavi...</td>\n",
       "      <td>NaN</td>\n",
       "      <td>1.0</td>\n",
       "      <td>2.0</td>\n",
       "      <td>USD</td>\n",
       "      <td>No</td>\n",
       "      <td>Thumbnail</td>\n",
       "      <td>Cats,Dogs</td>\n",
       "      <td>...</td>\n",
       "      <td>$1,600</td>\n",
       "      <td>Monthly</td>\n",
       "      <td>820</td>\n",
       "      <td>209 Aegean Way</td>\n",
       "      <td>Vacaville</td>\n",
       "      <td>CA</td>\n",
       "      <td>38.3622</td>\n",
       "      <td>-121.9712</td>\n",
       "      <td>RentLingo</td>\n",
       "      <td>1577360330</td>\n",
       "    </tr>\n",
       "    <tr>\n",
       "      <th>5668639374</th>\n",
       "      <td>housing/rent/apartment</td>\n",
       "      <td>One BR 4805 Marquette NE</td>\n",
       "      <td>This unit is located at 4805 Marquette NE, Alb...</td>\n",
       "      <td>NaN</td>\n",
       "      <td>1.0</td>\n",
       "      <td>1.0</td>\n",
       "      <td>USD</td>\n",
       "      <td>No</td>\n",
       "      <td>Thumbnail</td>\n",
       "      <td>Cats,Dogs</td>\n",
       "      <td>...</td>\n",
       "      <td>$975</td>\n",
       "      <td>Monthly</td>\n",
       "      <td>624</td>\n",
       "      <td>4805 Marquette NE</td>\n",
       "      <td>Albuquerque</td>\n",
       "      <td>NM</td>\n",
       "      <td>35.1038</td>\n",
       "      <td>-106.6110</td>\n",
       "      <td>RentLingo</td>\n",
       "      <td>1577360308</td>\n",
       "    </tr>\n",
       "    <tr>\n",
       "      <th>...</th>\n",
       "      <td>...</td>\n",
       "      <td>...</td>\n",
       "      <td>...</td>\n",
       "      <td>...</td>\n",
       "      <td>...</td>\n",
       "      <td>...</td>\n",
       "      <td>...</td>\n",
       "      <td>...</td>\n",
       "      <td>...</td>\n",
       "      <td>...</td>\n",
       "      <td>...</td>\n",
       "      <td>...</td>\n",
       "      <td>...</td>\n",
       "      <td>...</td>\n",
       "      <td>...</td>\n",
       "      <td>...</td>\n",
       "      <td>...</td>\n",
       "      <td>...</td>\n",
       "      <td>...</td>\n",
       "      <td>...</td>\n",
       "      <td>...</td>\n",
       "    </tr>\n",
       "    <tr>\n",
       "      <th>5121219946</th>\n",
       "      <td>housing/rent/apartment</td>\n",
       "      <td>Houston - superb Apartment nearby fine dining</td>\n",
       "      <td>Redefining urban living, in southeast Houston,...</td>\n",
       "      <td>Gym,Parking,Patio/Deck,Playground,Storage,Wood...</td>\n",
       "      <td>1.0</td>\n",
       "      <td>1.0</td>\n",
       "      <td>USD</td>\n",
       "      <td>No</td>\n",
       "      <td>Yes</td>\n",
       "      <td>NaN</td>\n",
       "      <td>...</td>\n",
       "      <td>$780</td>\n",
       "      <td>Monthly</td>\n",
       "      <td>605</td>\n",
       "      <td>NaN</td>\n",
       "      <td>Houston</td>\n",
       "      <td>TX</td>\n",
       "      <td>29.6151</td>\n",
       "      <td>-95.1998</td>\n",
       "      <td>RentDigs.com</td>\n",
       "      <td>1544185770</td>\n",
       "    </tr>\n",
       "    <tr>\n",
       "      <th>5121219696</th>\n",
       "      <td>housing/rent/apartment</td>\n",
       "      <td>The Best of the Best in the City of Jacksonvil...</td>\n",
       "      <td>Courtney Manor Apartments offer the best of ev...</td>\n",
       "      <td>AC,Cable or Satellite,Clubhouse,Dishwasher,Gym...</td>\n",
       "      <td>2.0</td>\n",
       "      <td>2.0</td>\n",
       "      <td>USD</td>\n",
       "      <td>No</td>\n",
       "      <td>Yes</td>\n",
       "      <td>Cats,Dogs</td>\n",
       "      <td>...</td>\n",
       "      <td>$813</td>\n",
       "      <td>Monthly</td>\n",
       "      <td>921</td>\n",
       "      <td>NaN</td>\n",
       "      <td>Jacksonville</td>\n",
       "      <td>FL</td>\n",
       "      <td>30.2254</td>\n",
       "      <td>-81.7579</td>\n",
       "      <td>RentDigs.com</td>\n",
       "      <td>1544185750</td>\n",
       "    </tr>\n",
       "    <tr>\n",
       "      <th>5121219420</th>\n",
       "      <td>housing/rent/apartment</td>\n",
       "      <td>A great &amp; large One BR apartment. Pet OK!</td>\n",
       "      <td>Fully remodeled, new floor, kitchen cabinet, s...</td>\n",
       "      <td>Garbage Disposal,Refrigerator</td>\n",
       "      <td>1.0</td>\n",
       "      <td>1.0</td>\n",
       "      <td>USD</td>\n",
       "      <td>No</td>\n",
       "      <td>Yes</td>\n",
       "      <td>Cats,Dogs</td>\n",
       "      <td>...</td>\n",
       "      <td>$1,325</td>\n",
       "      <td>Monthly</td>\n",
       "      <td>650</td>\n",
       "      <td>NaN</td>\n",
       "      <td>San Diego</td>\n",
       "      <td>CA</td>\n",
       "      <td>32.7379</td>\n",
       "      <td>-117.0914</td>\n",
       "      <td>RentDigs.com</td>\n",
       "      <td>1544185729</td>\n",
       "    </tr>\n",
       "    <tr>\n",
       "      <th>5121218935</th>\n",
       "      <td>housing/rent/apartment</td>\n",
       "      <td>The Crest offers studio, 1, 2 &amp; Three BR homes...</td>\n",
       "      <td>Amenities include a fitness facilities, swimmi...</td>\n",
       "      <td>Gym,Pool</td>\n",
       "      <td>1.0</td>\n",
       "      <td>1.0</td>\n",
       "      <td>USD</td>\n",
       "      <td>No</td>\n",
       "      <td>Yes</td>\n",
       "      <td>Cats,Dogs</td>\n",
       "      <td>...</td>\n",
       "      <td>$931</td>\n",
       "      <td>Monthly</td>\n",
       "      <td>701</td>\n",
       "      <td>NaN</td>\n",
       "      <td>Huntersville</td>\n",
       "      <td>NC</td>\n",
       "      <td>35.4158</td>\n",
       "      <td>-80.8451</td>\n",
       "      <td>RentDigs.com</td>\n",
       "      <td>1544185670</td>\n",
       "    </tr>\n",
       "    <tr>\n",
       "      <th>5121218844</th>\n",
       "      <td>housing/rent/apartment</td>\n",
       "      <td>Large Remodeled Two BR 1. Five BA Apartment Home</td>\n",
       "      <td>This is a brand new 2 Beds 1. five Bathrooms A...</td>\n",
       "      <td>Gated,Parking,Wood Floors</td>\n",
       "      <td>1.5</td>\n",
       "      <td>2.0</td>\n",
       "      <td>USD</td>\n",
       "      <td>No</td>\n",
       "      <td>Yes</td>\n",
       "      <td>NaN</td>\n",
       "      <td>...</td>\n",
       "      <td>$1,595</td>\n",
       "      <td>Monthly</td>\n",
       "      <td>900</td>\n",
       "      <td>NaN</td>\n",
       "      <td>San Diego</td>\n",
       "      <td>CA</td>\n",
       "      <td>32.7379</td>\n",
       "      <td>-117.0914</td>\n",
       "      <td>RentDigs.com</td>\n",
       "      <td>1544185659</td>\n",
       "    </tr>\n",
       "  </tbody>\n",
       "</table>\n",
       "<p>99492 rows × 21 columns</p>\n",
       "</div>"
      ],
      "text/plain": [
       "                          category  \\\n",
       "id                                   \n",
       "5668640009  housing/rent/apartment   \n",
       "5668639818  housing/rent/apartment   \n",
       "5668639686  housing/rent/apartment   \n",
       "5668639659  housing/rent/apartment   \n",
       "5668639374  housing/rent/apartment   \n",
       "...                            ...   \n",
       "5121219946  housing/rent/apartment   \n",
       "5121219696  housing/rent/apartment   \n",
       "5121219420  housing/rent/apartment   \n",
       "5121218935  housing/rent/apartment   \n",
       "5121218844  housing/rent/apartment   \n",
       "\n",
       "                                                        title  \\\n",
       "id                                                              \n",
       "5668640009                         One BR 507 & 509 Esplanade   \n",
       "5668639818                        Three BR 146 Lochview Drive   \n",
       "5668639686                    Three BR 3101 Morningside Drive   \n",
       "5668639659                              Two BR 209 Aegean Way   \n",
       "5668639374                           One BR 4805 Marquette NE   \n",
       "...                                                       ...   \n",
       "5121219946      Houston - superb Apartment nearby fine dining   \n",
       "5121219696  The Best of the Best in the City of Jacksonvil...   \n",
       "5121219420          A great & large One BR apartment. Pet OK!   \n",
       "5121218935  The Crest offers studio, 1, 2 & Three BR homes...   \n",
       "5121218844   Large Remodeled Two BR 1. Five BA Apartment Home   \n",
       "\n",
       "                                                         body  \\\n",
       "id                                                              \n",
       "5668640009  This unit is located at 507 & 509 Esplanade, R...   \n",
       "5668639818  This unit is located at 146 Lochview Drive, Ne...   \n",
       "5668639686  This unit is located at 3101 Morningside Drive...   \n",
       "5668639659  This unit is located at 209 Aegean Way, Vacavi...   \n",
       "5668639374  This unit is located at 4805 Marquette NE, Alb...   \n",
       "...                                                       ...   \n",
       "5121219946  Redefining urban living, in southeast Houston,...   \n",
       "5121219696  Courtney Manor Apartments offer the best of ev...   \n",
       "5121219420  Fully remodeled, new floor, kitchen cabinet, s...   \n",
       "5121218935  Amenities include a fitness facilities, swimmi...   \n",
       "5121218844  This is a brand new 2 Beds 1. five Bathrooms A...   \n",
       "\n",
       "                                                    amenities  bathrooms  \\\n",
       "id                                                                         \n",
       "5668640009                                                NaN        1.0   \n",
       "5668639818                                                NaN        1.5   \n",
       "5668639686                                                NaN        2.0   \n",
       "5668639659                                                NaN        1.0   \n",
       "5668639374                                                NaN        1.0   \n",
       "...                                                       ...        ...   \n",
       "5121219946  Gym,Parking,Patio/Deck,Playground,Storage,Wood...        1.0   \n",
       "5121219696  AC,Cable or Satellite,Clubhouse,Dishwasher,Gym...        2.0   \n",
       "5121219420                      Garbage Disposal,Refrigerator        1.0   \n",
       "5121218935                                           Gym,Pool        1.0   \n",
       "5121218844                          Gated,Parking,Wood Floors        1.5   \n",
       "\n",
       "            bedrooms currency fee  has_photo pets_allowed  ...  price_display  \\\n",
       "id                                                         ...                  \n",
       "5668640009       1.0      USD  No  Thumbnail         Cats  ...         $2,195   \n",
       "5668639818       3.0      USD  No  Thumbnail    Cats,Dogs  ...         $1,250   \n",
       "5668639686       3.0      USD  No  Thumbnail          NaN  ...         $1,395   \n",
       "5668639659       2.0      USD  No  Thumbnail    Cats,Dogs  ...         $1,600   \n",
       "5668639374       1.0      USD  No  Thumbnail    Cats,Dogs  ...           $975   \n",
       "...              ...      ...  ..        ...          ...  ...            ...   \n",
       "5121219946       1.0      USD  No        Yes          NaN  ...           $780   \n",
       "5121219696       2.0      USD  No        Yes    Cats,Dogs  ...           $813   \n",
       "5121219420       1.0      USD  No        Yes    Cats,Dogs  ...         $1,325   \n",
       "5121218935       1.0      USD  No        Yes    Cats,Dogs  ...           $931   \n",
       "5121218844       2.0      USD  No        Yes          NaN  ...         $1,595   \n",
       "\n",
       "           price_type square_feet              address       cityname state  \\\n",
       "id                                                                            \n",
       "5668640009    Monthly         542   507  509 Esplanade  Redondo Beach    CA   \n",
       "5668639818    Monthly        1500      146 Lochview Dr   Newport News    VA   \n",
       "5668639686    Monthly        1650  3101 Morningside Dr        Raleigh    NC   \n",
       "5668639659    Monthly         820       209 Aegean Way      Vacaville    CA   \n",
       "5668639374    Monthly         624    4805 Marquette NE    Albuquerque    NM   \n",
       "...               ...         ...                  ...            ...   ...   \n",
       "5121219946    Monthly         605                  NaN        Houston    TX   \n",
       "5121219696    Monthly         921                  NaN   Jacksonville    FL   \n",
       "5121219420    Monthly         650                  NaN      San Diego    CA   \n",
       "5121218935    Monthly         701                  NaN   Huntersville    NC   \n",
       "5121218844    Monthly         900                  NaN      San Diego    CA   \n",
       "\n",
       "           latitude  longitude        source        time  \n",
       "id                                                        \n",
       "5668640009  33.8520  -118.3759     RentLingo  1577360355  \n",
       "5668639818  37.0867   -76.4941     RentLingo  1577360340  \n",
       "5668639686  35.8230   -78.6438     RentLingo  1577360332  \n",
       "5668639659  38.3622  -121.9712     RentLingo  1577360330  \n",
       "5668639374  35.1038  -106.6110     RentLingo  1577360308  \n",
       "...             ...        ...           ...         ...  \n",
       "5121219946  29.6151   -95.1998  RentDigs.com  1544185770  \n",
       "5121219696  30.2254   -81.7579  RentDigs.com  1544185750  \n",
       "5121219420  32.7379  -117.0914  RentDigs.com  1544185729  \n",
       "5121218935  35.4158   -80.8451  RentDigs.com  1544185670  \n",
       "5121218844  32.7379  -117.0914  RentDigs.com  1544185659  \n",
       "\n",
       "[99492 rows x 21 columns]"
      ]
     },
     "execution_count": 3,
     "metadata": {},
     "output_type": "execute_result"
    }
   ],
   "source": [
    "# load dữ liệu\n",
    "df = pd.read_csv('../../Dataset/apartments for rent classified 100K.csv', index_col=0, low_memory=False)\n",
    "df.head(2)\n",
    "df"
   ]
  },
  {
   "cell_type": "code",
   "execution_count": 4,
   "metadata": {},
   "outputs": [
    {
     "name": "stdout",
     "output_type": "stream",
     "text": [
      "<class 'pandas.core.frame.DataFrame'>\n",
      "Int64Index: 99492 entries, 5668640009 to 5121218844\n",
      "Data columns (total 21 columns):\n",
      " #   Column         Non-Null Count  Dtype  \n",
      "---  ------         --------------  -----  \n",
      " 0   category       99492 non-null  object \n",
      " 1   title          99492 non-null  object \n",
      " 2   body           99492 non-null  object \n",
      " 3   amenities      83448 non-null  object \n",
      " 4   bathrooms      99429 non-null  float64\n",
      " 5   bedrooms       99368 non-null  float64\n",
      " 6   currency       99492 non-null  object \n",
      " 7   fee            99492 non-null  object \n",
      " 8   has_photo      99492 non-null  object \n",
      " 9   pets_allowed   39068 non-null  object \n",
      " 10  price          99491 non-null  float64\n",
      " 11  price_display  99491 non-null  object \n",
      " 12  price_type     99492 non-null  object \n",
      " 13  square_feet    99492 non-null  int64  \n",
      " 14  address        7943 non-null   object \n",
      " 15  cityname       99190 non-null  object \n",
      " 16  state          99190 non-null  object \n",
      " 17  latitude       99467 non-null  float64\n",
      " 18  longitude      99467 non-null  float64\n",
      " 19  source         99492 non-null  object \n",
      " 20  time           99492 non-null  int64  \n",
      "dtypes: float64(5), int64(2), object(14)\n",
      "memory usage: 16.7+ MB\n"
     ]
    }
   ],
   "source": [
    "df.info()"
   ]
  },
  {
   "cell_type": "markdown",
   "metadata": {},
   "source": [
    "## 2.2 Loại bỏ những cột không cần thiết"
   ]
  },
  {
   "cell_type": "code",
   "execution_count": 5,
   "metadata": {},
   "outputs": [
    {
     "data": {
      "text/html": [
       "<div>\n",
       "<style scoped>\n",
       "    .dataframe tbody tr th:only-of-type {\n",
       "        vertical-align: middle;\n",
       "    }\n",
       "\n",
       "    .dataframe tbody tr th {\n",
       "        vertical-align: top;\n",
       "    }\n",
       "\n",
       "    .dataframe thead th {\n",
       "        text-align: right;\n",
       "    }\n",
       "</style>\n",
       "<table border=\"1\" class=\"dataframe\">\n",
       "  <thead>\n",
       "    <tr style=\"text-align: right;\">\n",
       "      <th></th>\n",
       "      <th>category</th>\n",
       "      <th>amenities</th>\n",
       "      <th>bathrooms</th>\n",
       "      <th>bedrooms</th>\n",
       "      <th>fee</th>\n",
       "      <th>pets_allowed</th>\n",
       "      <th>price</th>\n",
       "      <th>price_type</th>\n",
       "      <th>square_feet</th>\n",
       "      <th>address</th>\n",
       "      <th>cityname</th>\n",
       "      <th>state</th>\n",
       "      <th>latitude</th>\n",
       "      <th>longitude</th>\n",
       "    </tr>\n",
       "    <tr>\n",
       "      <th>id</th>\n",
       "      <th></th>\n",
       "      <th></th>\n",
       "      <th></th>\n",
       "      <th></th>\n",
       "      <th></th>\n",
       "      <th></th>\n",
       "      <th></th>\n",
       "      <th></th>\n",
       "      <th></th>\n",
       "      <th></th>\n",
       "      <th></th>\n",
       "      <th></th>\n",
       "      <th></th>\n",
       "      <th></th>\n",
       "    </tr>\n",
       "  </thead>\n",
       "  <tbody>\n",
       "    <tr>\n",
       "      <th>5668640009</th>\n",
       "      <td>housing/rent/apartment</td>\n",
       "      <td>NaN</td>\n",
       "      <td>1.0</td>\n",
       "      <td>1.0</td>\n",
       "      <td>No</td>\n",
       "      <td>Cats</td>\n",
       "      <td>2195.0</td>\n",
       "      <td>Monthly</td>\n",
       "      <td>542</td>\n",
       "      <td>507  509 Esplanade</td>\n",
       "      <td>Redondo Beach</td>\n",
       "      <td>CA</td>\n",
       "      <td>33.852</td>\n",
       "      <td>-118.3759</td>\n",
       "    </tr>\n",
       "  </tbody>\n",
       "</table>\n",
       "</div>"
      ],
      "text/plain": [
       "                          category amenities  bathrooms  bedrooms fee  \\\n",
       "id                                                                      \n",
       "5668640009  housing/rent/apartment       NaN        1.0       1.0  No   \n",
       "\n",
       "           pets_allowed   price price_type  square_feet             address  \\\n",
       "id                                                                            \n",
       "5668640009         Cats  2195.0    Monthly          542  507  509 Esplanade   \n",
       "\n",
       "                 cityname state  latitude  longitude  \n",
       "id                                                    \n",
       "5668640009  Redondo Beach    CA    33.852  -118.3759  "
      ]
     },
     "execution_count": 5,
     "metadata": {},
     "output_type": "execute_result"
    }
   ],
   "source": [
    "# loại bỏ những cột không cần thiết (không mang nhiều ý nghĩa)\n",
    "df = df.drop(['title', 'body', 'has_photo', 'currency', 'price_display', 'source', 'time'], axis=1)\n",
    "df.head(1)"
   ]
  },
  {
   "cell_type": "markdown",
   "metadata": {},
   "source": [
    "## 2.3 Xử lý dữ liệu NaN"
   ]
  },
  {
   "cell_type": "code",
   "execution_count": 6,
   "metadata": {},
   "outputs": [
    {
     "data": {
      "text/plain": [
       "category            0\n",
       "amenities       16044\n",
       "bathrooms          63\n",
       "bedrooms          124\n",
       "fee                 0\n",
       "pets_allowed    60424\n",
       "price               1\n",
       "price_type          0\n",
       "square_feet         0\n",
       "address         91549\n",
       "cityname          302\n",
       "state             302\n",
       "latitude           25\n",
       "longitude          25\n",
       "dtype: int64"
      ]
     },
     "execution_count": 6,
     "metadata": {},
     "output_type": "execute_result"
    }
   ],
   "source": [
    "df.isna().sum()"
   ]
  },
  {
   "cell_type": "markdown",
   "metadata": {},
   "source": [
    "- Cột <span style=\"color:green; font-weight:bold\">amenities</span> và <span style=\"color:green; font-weight:bold\">pets_allowed</span> có số lượng NaN rất nhiều, nhưng đây là cột Tiện ích và Thú nuôi được cho phép, nên những hàng có giá trị NaN ta có thể hiểu là căn nhà đó không có tiện ích và không được nuôi thú cưng.\n",
    "- Cột <span style=\"color:green; font-weight:bold\">address</span> có số lượng NaN rất nhiều chiếm hơn 90% bộ dữ liệu nên chúng ta bỏ hẳn cột này, vì đã có cột <span style=\"color:green; font-weight:bold\">latitude</span> và <span style=\"color:green; font-weight:bold\">longitude</span> để xác định vị trí của căn nhà.\n",
    "- Các cột <span style=\"color:green; font-weight:bold\">bathrooms</span>, <span style=\"color:green; font-weight:bold\">bedrooms</span>, <span style=\"color:green; font-weight:bold\">price</span>, <span style=\"color:green; font-weight:bold\">cityname</span>, <span style=\"color:green; font-weight:bold\">state</span>, <span style=\"color:green; font-weight:bold\">latitude</span>, <span style=\"color:darkgreen; font-weight:bold\">longitude</span> có các giá trị NaN nhưng chiếm số lượng rất ít so với bộ dữ liệu nên sẽ bỏ hẳn.\n"
   ]
  },
  {
   "cell_type": "code",
   "execution_count": 7,
   "metadata": {},
   "outputs": [],
   "source": [
    "# xóa những dòng dữ liệu bị NaN\n",
    "df = df.dropna(subset=['bathrooms', 'bedrooms', 'price', 'cityname', 'state', 'latitude', 'longitude'])"
   ]
  },
  {
   "cell_type": "code",
   "execution_count": 8,
   "metadata": {},
   "outputs": [
    {
     "data": {
      "text/html": [
       "<div>\n",
       "<style scoped>\n",
       "    .dataframe tbody tr th:only-of-type {\n",
       "        vertical-align: middle;\n",
       "    }\n",
       "\n",
       "    .dataframe tbody tr th {\n",
       "        vertical-align: top;\n",
       "    }\n",
       "\n",
       "    .dataframe thead th {\n",
       "        text-align: right;\n",
       "    }\n",
       "</style>\n",
       "<table border=\"1\" class=\"dataframe\">\n",
       "  <thead>\n",
       "    <tr style=\"text-align: right;\">\n",
       "      <th></th>\n",
       "      <th>category</th>\n",
       "      <th>amenities</th>\n",
       "      <th>bathrooms</th>\n",
       "      <th>bedrooms</th>\n",
       "      <th>fee</th>\n",
       "      <th>pets_allowed</th>\n",
       "      <th>price</th>\n",
       "      <th>price_type</th>\n",
       "      <th>square_feet</th>\n",
       "      <th>cityname</th>\n",
       "      <th>state</th>\n",
       "      <th>latitude</th>\n",
       "      <th>longitude</th>\n",
       "    </tr>\n",
       "    <tr>\n",
       "      <th>id</th>\n",
       "      <th></th>\n",
       "      <th></th>\n",
       "      <th></th>\n",
       "      <th></th>\n",
       "      <th></th>\n",
       "      <th></th>\n",
       "      <th></th>\n",
       "      <th></th>\n",
       "      <th></th>\n",
       "      <th></th>\n",
       "      <th></th>\n",
       "      <th></th>\n",
       "      <th></th>\n",
       "    </tr>\n",
       "  </thead>\n",
       "  <tbody>\n",
       "    <tr>\n",
       "      <th>5668640009</th>\n",
       "      <td>housing/rent/apartment</td>\n",
       "      <td>NaN</td>\n",
       "      <td>1.0</td>\n",
       "      <td>1.0</td>\n",
       "      <td>No</td>\n",
       "      <td>Cats</td>\n",
       "      <td>2195.0</td>\n",
       "      <td>Monthly</td>\n",
       "      <td>542</td>\n",
       "      <td>Redondo Beach</td>\n",
       "      <td>CA</td>\n",
       "      <td>33.852</td>\n",
       "      <td>-118.3759</td>\n",
       "    </tr>\n",
       "  </tbody>\n",
       "</table>\n",
       "</div>"
      ],
      "text/plain": [
       "                          category amenities  bathrooms  bedrooms fee  \\\n",
       "id                                                                      \n",
       "5668640009  housing/rent/apartment       NaN        1.0       1.0  No   \n",
       "\n",
       "           pets_allowed   price price_type  square_feet       cityname state  \\\n",
       "id                                                                             \n",
       "5668640009         Cats  2195.0    Monthly          542  Redondo Beach    CA   \n",
       "\n",
       "            latitude  longitude  \n",
       "id                               \n",
       "5668640009    33.852  -118.3759  "
      ]
     },
     "execution_count": 8,
     "metadata": {},
     "output_type": "execute_result"
    }
   ],
   "source": [
    "df = df.drop(['address'], axis=1)\n",
    "df.head(1)"
   ]
  },
  {
   "cell_type": "code",
   "execution_count": 9,
   "metadata": {},
   "outputs": [],
   "source": [
    "df['amenities'] = df['amenities'].fillna(\"\")\n",
    "df['pets_allowed'] = df['pets_allowed'].fillna(\"\")"
   ]
  },
  {
   "cell_type": "code",
   "execution_count": 10,
   "metadata": {},
   "outputs": [
    {
     "data": {
      "text/plain": [
       "(99007, 13)"
      ]
     },
     "execution_count": 10,
     "metadata": {},
     "output_type": "execute_result"
    }
   ],
   "source": [
    "df.shape"
   ]
  },
  {
   "cell_type": "code",
   "execution_count": 11,
   "metadata": {},
   "outputs": [
    {
     "data": {
      "text/plain": [
       "category        0\n",
       "amenities       0\n",
       "bathrooms       0\n",
       "bedrooms        0\n",
       "fee             0\n",
       "pets_allowed    0\n",
       "price           0\n",
       "price_type      0\n",
       "square_feet     0\n",
       "cityname        0\n",
       "state           0\n",
       "latitude        0\n",
       "longitude       0\n",
       "dtype: int64"
      ]
     },
     "execution_count": 11,
     "metadata": {},
     "output_type": "execute_result"
    }
   ],
   "source": [
    "df.isna().sum()"
   ]
  },
  {
   "cell_type": "markdown",
   "metadata": {},
   "source": [
    "## 2.4 Phân tích và xử lý cho từng thuộc tính"
   ]
  },
  {
   "cell_type": "markdown",
   "metadata": {},
   "source": [
    "### pets_allowed"
   ]
  },
  {
   "cell_type": "code",
   "execution_count": 12,
   "metadata": {},
   "outputs": [
    {
     "data": {
      "text/plain": [
       "                  60114\n",
       "Cats,Dogs         36931\n",
       "Cats               1835\n",
       "Dogs                126\n",
       "Cats,Dogs,None        1\n",
       "Name: pets_allowed, dtype: int64"
      ]
     },
     "execution_count": 12,
     "metadata": {},
     "output_type": "execute_result"
    }
   ],
   "source": [
    "df['pets_allowed'].value_counts()"
   ]
  },
  {
   "cell_type": "markdown",
   "metadata": {},
   "source": [
    "- Có 1 quan sát có giá trị bị sai là quan sát 'Cats,Dogs,None' chúng ta cần bỏ đi giá trị None\n",
    "- Ta còn lại 3 giá trị là 'Cat', 'Dogs' và 'Cats,Dogs' nhận thấy điều này nên đối với cột dữ liệu này sẽ thực hiện label encoding để chuyển từ chữ sang số"
   ]
  },
  {
   "cell_type": "code",
   "execution_count": 13,
   "metadata": {},
   "outputs": [],
   "source": [
    "df['pets_allowed'].replace('Cats,Dogs,None', 'Cats,Dogs', inplace=True)"
   ]
  },
  {
   "cell_type": "code",
   "execution_count": 14,
   "metadata": {},
   "outputs": [
    {
     "data": {
      "text/plain": [
       "             60114\n",
       "Cats,Dogs    36932\n",
       "Cats          1835\n",
       "Dogs           126\n",
       "Name: pets_allowed, dtype: int64"
      ]
     },
     "execution_count": 14,
     "metadata": {},
     "output_type": "execute_result"
    }
   ],
   "source": [
    "df['pets_allowed'].value_counts()"
   ]
  },
  {
   "cell_type": "markdown",
   "metadata": {},
   "source": [
    "### fee"
   ]
  },
  {
   "cell_type": "code",
   "execution_count": 15,
   "metadata": {},
   "outputs": [
    {
     "data": {
      "text/plain": [
       "No     98810\n",
       "Yes      197\n",
       "Name: fee, dtype: int64"
      ]
     },
     "execution_count": 15,
     "metadata": {},
     "output_type": "execute_result"
    }
   ],
   "source": [
    "df['fee'].value_counts()"
   ]
  },
  {
   "cell_type": "markdown",
   "metadata": {},
   "source": [
    "Có sự mất cân bằng rất nhiều giữa việc có phí và không có phí phát sinh."
   ]
  },
  {
   "cell_type": "markdown",
   "metadata": {},
   "source": [
    "### price_type"
   ]
  },
  {
   "cell_type": "code",
   "execution_count": 16,
   "metadata": {},
   "outputs": [
    {
     "data": {
      "text/plain": [
       "Monthly    99004\n",
       "Weekly         3\n",
       "Name: price_type, dtype: int64"
      ]
     },
     "execution_count": 16,
     "metadata": {},
     "output_type": "execute_result"
    }
   ],
   "source": [
    "df['price_type'].value_counts()"
   ]
  },
  {
   "cell_type": "markdown",
   "metadata": {},
   "source": [
    "- Cách thanh toán có sự mất cân bằng rất nhiều giữa thanh toán theo tuần và theo tháng\n",
    "- Chúng em đưa ra giải pháp là sẽ chuyển hết tất cả về thanh toán theo tháng do chỉ có 3 quan sát trên tổng số gần 100.000 quan sát có cách thanh toán theo tuần, việc chuyển về chung sẽ giúp bỏ đi thuộc tính cách thanh toán, giúp giảm kích thước bộ nhớ mà không làm ảnh hưởng nhiều đến kết quả dự đoán.\n",
    "- 1 tháng thường sẽ có 4 tuần nên sẽ chuyển từ cách thức thanh toán từ tuần sang tháng bằng cách lấy price*4"
   ]
  },
  {
   "cell_type": "code",
   "execution_count": 17,
   "metadata": {},
   "outputs": [
    {
     "data": {
      "text/html": [
       "<div>\n",
       "<style scoped>\n",
       "    .dataframe tbody tr th:only-of-type {\n",
       "        vertical-align: middle;\n",
       "    }\n",
       "\n",
       "    .dataframe tbody tr th {\n",
       "        vertical-align: top;\n",
       "    }\n",
       "\n",
       "    .dataframe thead th {\n",
       "        text-align: right;\n",
       "    }\n",
       "</style>\n",
       "<table border=\"1\" class=\"dataframe\">\n",
       "  <thead>\n",
       "    <tr style=\"text-align: right;\">\n",
       "      <th></th>\n",
       "      <th>category</th>\n",
       "      <th>amenities</th>\n",
       "      <th>bathrooms</th>\n",
       "      <th>bedrooms</th>\n",
       "      <th>fee</th>\n",
       "      <th>pets_allowed</th>\n",
       "      <th>price</th>\n",
       "      <th>price_type</th>\n",
       "      <th>square_feet</th>\n",
       "      <th>cityname</th>\n",
       "      <th>state</th>\n",
       "      <th>latitude</th>\n",
       "      <th>longitude</th>\n",
       "    </tr>\n",
       "    <tr>\n",
       "      <th>id</th>\n",
       "      <th></th>\n",
       "      <th></th>\n",
       "      <th></th>\n",
       "      <th></th>\n",
       "      <th></th>\n",
       "      <th></th>\n",
       "      <th></th>\n",
       "      <th></th>\n",
       "      <th></th>\n",
       "      <th></th>\n",
       "      <th></th>\n",
       "      <th></th>\n",
       "      <th></th>\n",
       "    </tr>\n",
       "  </thead>\n",
       "  <tbody>\n",
       "    <tr>\n",
       "      <th>5659276240</th>\n",
       "      <td>housing/rent/apartment</td>\n",
       "      <td>AC,Basketball,Cable or Satellite,Gym,Internet ...</td>\n",
       "      <td>1.0</td>\n",
       "      <td>1.0</td>\n",
       "      <td>No</td>\n",
       "      <td>Cats,Dogs</td>\n",
       "      <td>1560.0</td>\n",
       "      <td>Weekly</td>\n",
       "      <td>200</td>\n",
       "      <td>New Bern</td>\n",
       "      <td>NC</td>\n",
       "      <td>35.0847</td>\n",
       "      <td>-77.0609</td>\n",
       "    </tr>\n",
       "    <tr>\n",
       "      <th>5518370229</th>\n",
       "      <td>housing/rent/apartment</td>\n",
       "      <td>AC,Fireplace,Patio/Deck,Pool,TV</td>\n",
       "      <td>4.0</td>\n",
       "      <td>4.0</td>\n",
       "      <td>No</td>\n",
       "      <td></td>\n",
       "      <td>8500.0</td>\n",
       "      <td>Weekly</td>\n",
       "      <td>3600</td>\n",
       "      <td>East Hampton</td>\n",
       "      <td>NY</td>\n",
       "      <td>41.0020</td>\n",
       "      <td>-72.1796</td>\n",
       "    </tr>\n",
       "    <tr>\n",
       "      <th>5161839760</th>\n",
       "      <td>housing/rent/apartment</td>\n",
       "      <td>Elevator</td>\n",
       "      <td>2.5</td>\n",
       "      <td>2.0</td>\n",
       "      <td>No</td>\n",
       "      <td></td>\n",
       "      <td>850.0</td>\n",
       "      <td>Weekly</td>\n",
       "      <td>2326</td>\n",
       "      <td>New York</td>\n",
       "      <td>NY</td>\n",
       "      <td>40.7247</td>\n",
       "      <td>-73.9545</td>\n",
       "    </tr>\n",
       "  </tbody>\n",
       "</table>\n",
       "</div>"
      ],
      "text/plain": [
       "                          category  \\\n",
       "id                                   \n",
       "5659276240  housing/rent/apartment   \n",
       "5518370229  housing/rent/apartment   \n",
       "5161839760  housing/rent/apartment   \n",
       "\n",
       "                                                    amenities  bathrooms  \\\n",
       "id                                                                         \n",
       "5659276240  AC,Basketball,Cable or Satellite,Gym,Internet ...        1.0   \n",
       "5518370229                    AC,Fireplace,Patio/Deck,Pool,TV        4.0   \n",
       "5161839760                                           Elevator        2.5   \n",
       "\n",
       "            bedrooms fee pets_allowed   price price_type  square_feet  \\\n",
       "id                                                                      \n",
       "5659276240       1.0  No    Cats,Dogs  1560.0     Weekly          200   \n",
       "5518370229       4.0  No               8500.0     Weekly         3600   \n",
       "5161839760       2.0  No                850.0     Weekly         2326   \n",
       "\n",
       "                cityname state  latitude  longitude  \n",
       "id                                                   \n",
       "5659276240      New Bern    NC   35.0847   -77.0609  \n",
       "5518370229  East Hampton    NY   41.0020   -72.1796  \n",
       "5161839760      New York    NY   40.7247   -73.9545  "
      ]
     },
     "execution_count": 17,
     "metadata": {},
     "output_type": "execute_result"
    }
   ],
   "source": [
    "# trước khi chuyển về tháng\n",
    "df[df['price_type'] == 'Weekly']"
   ]
  },
  {
   "cell_type": "code",
   "execution_count": 18,
   "metadata": {},
   "outputs": [
    {
     "data": {
      "text/html": [
       "<div>\n",
       "<style scoped>\n",
       "    .dataframe tbody tr th:only-of-type {\n",
       "        vertical-align: middle;\n",
       "    }\n",
       "\n",
       "    .dataframe tbody tr th {\n",
       "        vertical-align: top;\n",
       "    }\n",
       "\n",
       "    .dataframe thead th {\n",
       "        text-align: right;\n",
       "    }\n",
       "</style>\n",
       "<table border=\"1\" class=\"dataframe\">\n",
       "  <thead>\n",
       "    <tr style=\"text-align: right;\">\n",
       "      <th></th>\n",
       "      <th>category</th>\n",
       "      <th>amenities</th>\n",
       "      <th>bathrooms</th>\n",
       "      <th>bedrooms</th>\n",
       "      <th>fee</th>\n",
       "      <th>pets_allowed</th>\n",
       "      <th>price</th>\n",
       "      <th>price_type</th>\n",
       "      <th>square_feet</th>\n",
       "      <th>cityname</th>\n",
       "      <th>state</th>\n",
       "      <th>latitude</th>\n",
       "      <th>longitude</th>\n",
       "    </tr>\n",
       "    <tr>\n",
       "      <th>id</th>\n",
       "      <th></th>\n",
       "      <th></th>\n",
       "      <th></th>\n",
       "      <th></th>\n",
       "      <th></th>\n",
       "      <th></th>\n",
       "      <th></th>\n",
       "      <th></th>\n",
       "      <th></th>\n",
       "      <th></th>\n",
       "      <th></th>\n",
       "      <th></th>\n",
       "      <th></th>\n",
       "    </tr>\n",
       "  </thead>\n",
       "  <tbody>\n",
       "    <tr>\n",
       "      <th>5659276240</th>\n",
       "      <td>housing/rent/apartment</td>\n",
       "      <td>AC,Basketball,Cable or Satellite,Gym,Internet ...</td>\n",
       "      <td>1.0</td>\n",
       "      <td>1.0</td>\n",
       "      <td>No</td>\n",
       "      <td>Cats,Dogs</td>\n",
       "      <td>6240.0</td>\n",
       "      <td>Weekly</td>\n",
       "      <td>200</td>\n",
       "      <td>New Bern</td>\n",
       "      <td>NC</td>\n",
       "      <td>35.0847</td>\n",
       "      <td>-77.0609</td>\n",
       "    </tr>\n",
       "    <tr>\n",
       "      <th>5518370229</th>\n",
       "      <td>housing/rent/apartment</td>\n",
       "      <td>AC,Fireplace,Patio/Deck,Pool,TV</td>\n",
       "      <td>4.0</td>\n",
       "      <td>4.0</td>\n",
       "      <td>No</td>\n",
       "      <td></td>\n",
       "      <td>34000.0</td>\n",
       "      <td>Weekly</td>\n",
       "      <td>3600</td>\n",
       "      <td>East Hampton</td>\n",
       "      <td>NY</td>\n",
       "      <td>41.0020</td>\n",
       "      <td>-72.1796</td>\n",
       "    </tr>\n",
       "    <tr>\n",
       "      <th>5161839760</th>\n",
       "      <td>housing/rent/apartment</td>\n",
       "      <td>Elevator</td>\n",
       "      <td>2.5</td>\n",
       "      <td>2.0</td>\n",
       "      <td>No</td>\n",
       "      <td></td>\n",
       "      <td>3400.0</td>\n",
       "      <td>Weekly</td>\n",
       "      <td>2326</td>\n",
       "      <td>New York</td>\n",
       "      <td>NY</td>\n",
       "      <td>40.7247</td>\n",
       "      <td>-73.9545</td>\n",
       "    </tr>\n",
       "  </tbody>\n",
       "</table>\n",
       "</div>"
      ],
      "text/plain": [
       "                          category  \\\n",
       "id                                   \n",
       "5659276240  housing/rent/apartment   \n",
       "5518370229  housing/rent/apartment   \n",
       "5161839760  housing/rent/apartment   \n",
       "\n",
       "                                                    amenities  bathrooms  \\\n",
       "id                                                                         \n",
       "5659276240  AC,Basketball,Cable or Satellite,Gym,Internet ...        1.0   \n",
       "5518370229                    AC,Fireplace,Patio/Deck,Pool,TV        4.0   \n",
       "5161839760                                           Elevator        2.5   \n",
       "\n",
       "            bedrooms fee pets_allowed    price price_type  square_feet  \\\n",
       "id                                                                       \n",
       "5659276240       1.0  No    Cats,Dogs   6240.0     Weekly          200   \n",
       "5518370229       4.0  No               34000.0     Weekly         3600   \n",
       "5161839760       2.0  No                3400.0     Weekly         2326   \n",
       "\n",
       "                cityname state  latitude  longitude  \n",
       "id                                                   \n",
       "5659276240      New Bern    NC   35.0847   -77.0609  \n",
       "5518370229  East Hampton    NY   41.0020   -72.1796  \n",
       "5161839760      New York    NY   40.7247   -73.9545  "
      ]
     },
     "execution_count": 18,
     "metadata": {},
     "output_type": "execute_result"
    }
   ],
   "source": [
    "# chuyển về tháng\n",
    "df['price'].loc[df['price_type'] == 'Weekly'] *= 4\n",
    "df[df['price_type'] == 'Weekly']"
   ]
  },
  {
   "cell_type": "code",
   "execution_count": 19,
   "metadata": {},
   "outputs": [
    {
     "data": {
      "text/html": [
       "<div>\n",
       "<style scoped>\n",
       "    .dataframe tbody tr th:only-of-type {\n",
       "        vertical-align: middle;\n",
       "    }\n",
       "\n",
       "    .dataframe tbody tr th {\n",
       "        vertical-align: top;\n",
       "    }\n",
       "\n",
       "    .dataframe thead th {\n",
       "        text-align: right;\n",
       "    }\n",
       "</style>\n",
       "<table border=\"1\" class=\"dataframe\">\n",
       "  <thead>\n",
       "    <tr style=\"text-align: right;\">\n",
       "      <th></th>\n",
       "      <th>category</th>\n",
       "      <th>amenities</th>\n",
       "      <th>bathrooms</th>\n",
       "      <th>bedrooms</th>\n",
       "      <th>fee</th>\n",
       "      <th>pets_allowed</th>\n",
       "      <th>price</th>\n",
       "      <th>square_feet</th>\n",
       "      <th>cityname</th>\n",
       "      <th>state</th>\n",
       "      <th>latitude</th>\n",
       "      <th>longitude</th>\n",
       "    </tr>\n",
       "    <tr>\n",
       "      <th>id</th>\n",
       "      <th></th>\n",
       "      <th></th>\n",
       "      <th></th>\n",
       "      <th></th>\n",
       "      <th></th>\n",
       "      <th></th>\n",
       "      <th></th>\n",
       "      <th></th>\n",
       "      <th></th>\n",
       "      <th></th>\n",
       "      <th></th>\n",
       "      <th></th>\n",
       "    </tr>\n",
       "  </thead>\n",
       "  <tbody>\n",
       "    <tr>\n",
       "      <th>5668640009</th>\n",
       "      <td>housing/rent/apartment</td>\n",
       "      <td></td>\n",
       "      <td>1.0</td>\n",
       "      <td>1.0</td>\n",
       "      <td>No</td>\n",
       "      <td>Cats</td>\n",
       "      <td>2195.0</td>\n",
       "      <td>542</td>\n",
       "      <td>Redondo Beach</td>\n",
       "      <td>CA</td>\n",
       "      <td>33.852</td>\n",
       "      <td>-118.3759</td>\n",
       "    </tr>\n",
       "  </tbody>\n",
       "</table>\n",
       "</div>"
      ],
      "text/plain": [
       "                          category amenities  bathrooms  bedrooms fee  \\\n",
       "id                                                                      \n",
       "5668640009  housing/rent/apartment                  1.0       1.0  No   \n",
       "\n",
       "           pets_allowed   price  square_feet       cityname state  latitude  \\\n",
       "id                                                                            \n",
       "5668640009         Cats  2195.0          542  Redondo Beach    CA    33.852   \n",
       "\n",
       "            longitude  \n",
       "id                     \n",
       "5668640009  -118.3759  "
      ]
     },
     "execution_count": 19,
     "metadata": {},
     "output_type": "execute_result"
    }
   ],
   "source": [
    "# Sau khi chuyển về cách thức thanh toán bằng tháng thì ta sẽ xóa cột 'price_type'\n",
    "df = df.drop('price_type', axis=1)\n",
    "df.head(1)"
   ]
  },
  {
   "cell_type": "markdown",
   "metadata": {},
   "source": [
    "### cityname"
   ]
  },
  {
   "cell_type": "code",
   "execution_count": 20,
   "metadata": {},
   "outputs": [
    {
     "data": {
      "text/plain": [
       "2977"
      ]
     },
     "execution_count": 20,
     "metadata": {},
     "output_type": "execute_result"
    }
   ],
   "source": [
    "# đối với cột này thì không có quá gì để phân tích do lượng quan sát phân bố khá nhiều để dành phân tích trên tableau\n",
    "len(df['cityname'].unique())"
   ]
  },
  {
   "cell_type": "markdown",
   "metadata": {},
   "source": [
    "### state"
   ]
  },
  {
   "cell_type": "code",
   "execution_count": 21,
   "metadata": {},
   "outputs": [
    {
     "data": {
      "text/plain": [
       "array(['CA', 'VA', 'NC', 'NM', 'CO', 'WV', 'GA', 'MA', 'DC', 'AZ', 'IA',\n",
       "       'WA', 'TX', 'IL', 'MS', 'OR', 'FL', 'MO', 'PA', 'WI', 'OK', 'UT',\n",
       "       'RI', 'NJ', 'IN', 'MD', 'OH', 'TN', 'ND', 'NE', 'AR', 'MI', 'MN',\n",
       "       'HI', 'ID', 'SC', 'KS', 'AL', 'SD', 'NY', 'KY', 'LA', 'AK', 'CT',\n",
       "       'NV', 'WY', 'VT', 'NH', 'MT', 'DE', 'ME'], dtype=object)"
      ]
     },
     "execution_count": 21,
     "metadata": {},
     "output_type": "execute_result"
    }
   ],
   "source": [
    "df['state'].unique()"
   ]
  },
  {
   "cell_type": "markdown",
   "metadata": {},
   "source": [
    "Ở đây state đều viết tắt nên sẽ chuyển về dạng đầy đủ rõ nghĩa"
   ]
  },
  {
   "cell_type": "code",
   "execution_count": 22,
   "metadata": {},
   "outputs": [
    {
     "data": {
      "text/html": [
       "<div>\n",
       "<style scoped>\n",
       "    .dataframe tbody tr th:only-of-type {\n",
       "        vertical-align: middle;\n",
       "    }\n",
       "\n",
       "    .dataframe tbody tr th {\n",
       "        vertical-align: top;\n",
       "    }\n",
       "\n",
       "    .dataframe thead th {\n",
       "        text-align: right;\n",
       "    }\n",
       "</style>\n",
       "<table border=\"1\" class=\"dataframe\">\n",
       "  <thead>\n",
       "    <tr style=\"text-align: right;\">\n",
       "      <th></th>\n",
       "      <th>category</th>\n",
       "      <th>amenities</th>\n",
       "      <th>bathrooms</th>\n",
       "      <th>bedrooms</th>\n",
       "      <th>fee</th>\n",
       "      <th>pets_allowed</th>\n",
       "      <th>price</th>\n",
       "      <th>square_feet</th>\n",
       "      <th>cityname</th>\n",
       "      <th>state</th>\n",
       "      <th>latitude</th>\n",
       "      <th>longitude</th>\n",
       "    </tr>\n",
       "    <tr>\n",
       "      <th>id</th>\n",
       "      <th></th>\n",
       "      <th></th>\n",
       "      <th></th>\n",
       "      <th></th>\n",
       "      <th></th>\n",
       "      <th></th>\n",
       "      <th></th>\n",
       "      <th></th>\n",
       "      <th></th>\n",
       "      <th></th>\n",
       "      <th></th>\n",
       "      <th></th>\n",
       "    </tr>\n",
       "  </thead>\n",
       "  <tbody>\n",
       "    <tr>\n",
       "      <th>5668640009</th>\n",
       "      <td>housing/rent/apartment</td>\n",
       "      <td></td>\n",
       "      <td>1.0</td>\n",
       "      <td>1.0</td>\n",
       "      <td>No</td>\n",
       "      <td>Cats</td>\n",
       "      <td>2195.0</td>\n",
       "      <td>542</td>\n",
       "      <td>Redondo Beach</td>\n",
       "      <td>California</td>\n",
       "      <td>33.8520</td>\n",
       "      <td>-118.3759</td>\n",
       "    </tr>\n",
       "    <tr>\n",
       "      <th>5668639818</th>\n",
       "      <td>housing/rent/apartment</td>\n",
       "      <td></td>\n",
       "      <td>1.5</td>\n",
       "      <td>3.0</td>\n",
       "      <td>No</td>\n",
       "      <td>Cats,Dogs</td>\n",
       "      <td>1250.0</td>\n",
       "      <td>1500</td>\n",
       "      <td>Newport News</td>\n",
       "      <td>Virginia</td>\n",
       "      <td>37.0867</td>\n",
       "      <td>-76.4941</td>\n",
       "    </tr>\n",
       "    <tr>\n",
       "      <th>5668639686</th>\n",
       "      <td>housing/rent/apartment</td>\n",
       "      <td></td>\n",
       "      <td>2.0</td>\n",
       "      <td>3.0</td>\n",
       "      <td>No</td>\n",
       "      <td></td>\n",
       "      <td>1395.0</td>\n",
       "      <td>1650</td>\n",
       "      <td>Raleigh</td>\n",
       "      <td>North Carolina</td>\n",
       "      <td>35.8230</td>\n",
       "      <td>-78.6438</td>\n",
       "    </tr>\n",
       "    <tr>\n",
       "      <th>5668639659</th>\n",
       "      <td>housing/rent/apartment</td>\n",
       "      <td></td>\n",
       "      <td>1.0</td>\n",
       "      <td>2.0</td>\n",
       "      <td>No</td>\n",
       "      <td>Cats,Dogs</td>\n",
       "      <td>1600.0</td>\n",
       "      <td>820</td>\n",
       "      <td>Vacaville</td>\n",
       "      <td>California</td>\n",
       "      <td>38.3622</td>\n",
       "      <td>-121.9712</td>\n",
       "    </tr>\n",
       "    <tr>\n",
       "      <th>5668639374</th>\n",
       "      <td>housing/rent/apartment</td>\n",
       "      <td></td>\n",
       "      <td>1.0</td>\n",
       "      <td>1.0</td>\n",
       "      <td>No</td>\n",
       "      <td>Cats,Dogs</td>\n",
       "      <td>975.0</td>\n",
       "      <td>624</td>\n",
       "      <td>Albuquerque</td>\n",
       "      <td>New Mexico</td>\n",
       "      <td>35.1038</td>\n",
       "      <td>-106.6110</td>\n",
       "    </tr>\n",
       "  </tbody>\n",
       "</table>\n",
       "</div>"
      ],
      "text/plain": [
       "                          category amenities  bathrooms  bedrooms fee  \\\n",
       "id                                                                      \n",
       "5668640009  housing/rent/apartment                  1.0       1.0  No   \n",
       "5668639818  housing/rent/apartment                  1.5       3.0  No   \n",
       "5668639686  housing/rent/apartment                  2.0       3.0  No   \n",
       "5668639659  housing/rent/apartment                  1.0       2.0  No   \n",
       "5668639374  housing/rent/apartment                  1.0       1.0  No   \n",
       "\n",
       "           pets_allowed   price  square_feet       cityname           state  \\\n",
       "id                                                                            \n",
       "5668640009         Cats  2195.0          542  Redondo Beach      California   \n",
       "5668639818    Cats,Dogs  1250.0         1500   Newport News        Virginia   \n",
       "5668639686               1395.0         1650        Raleigh  North Carolina   \n",
       "5668639659    Cats,Dogs  1600.0          820      Vacaville      California   \n",
       "5668639374    Cats,Dogs   975.0          624    Albuquerque      New Mexico   \n",
       "\n",
       "            latitude  longitude  \n",
       "id                               \n",
       "5668640009   33.8520  -118.3759  \n",
       "5668639818   37.0867   -76.4941  \n",
       "5668639686   35.8230   -78.6438  \n",
       "5668639659   38.3622  -121.9712  \n",
       "5668639374   35.1038  -106.6110  "
      ]
     },
     "execution_count": 22,
     "metadata": {},
     "output_type": "execute_result"
    }
   ],
   "source": [
    "# state viết tắt -> state đầy đủ\n",
    "data = dict()\n",
    "with open('../../Dataset/state.txt', 'r', encoding='utf8') as f:\n",
    "    for line in f.readlines():\n",
    "        split = line.split()\n",
    "        state = ' '.join(split[:-1])\n",
    "        acronym = split[-1]\n",
    "        data[acronym] = state\n",
    "        \n",
    "df['state'] = df['state'].apply(lambda x: data.get(x, x))\n",
    "df.head()"
   ]
  },
  {
   "cell_type": "markdown",
   "metadata": {},
   "source": [
    "### category and amenities"
   ]
  },
  {
   "cell_type": "code",
   "execution_count": 23,
   "metadata": {},
   "outputs": [
    {
     "data": {
      "text/plain": [
       "housing/rent/apartment            98947\n",
       "housing/rent/commercial/retail       42\n",
       "housing/rent                          7\n",
       "housing/rent/home                     4\n",
       "housing/rent/short_term               3\n",
       "housing/rent/condo                    3\n",
       "housing/rent/other                    1\n",
       "Name: category, dtype: int64"
      ]
     },
     "execution_count": 23,
     "metadata": {},
     "output_type": "execute_result"
    }
   ],
   "source": [
    "df['category'].value_counts()"
   ]
  },
  {
   "cell_type": "code",
   "execution_count": 24,
   "metadata": {},
   "outputs": [
    {
     "data": {
      "text/plain": [
       "apartment            98947\n",
       "commercial/retail       42\n",
       "                         7\n",
       "home                     4\n",
       "short_term               3\n",
       "condo                    3\n",
       "other                    1\n",
       "Name: category, dtype: int64"
      ]
     },
     "execution_count": 24,
     "metadata": {},
     "output_type": "execute_result"
    }
   ],
   "source": [
    "# category -> Main category\n",
    "df['category'] = df['category'].apply(lambda x: x.replace('housing/rent/', ''))\n",
    "df.loc[df['category'] == 'housing/rent', 'category'] = \"\"\n",
    "df['category'].value_counts()"
   ]
  },
  {
   "cell_type": "code",
   "execution_count": 25,
   "metadata": {},
   "outputs": [
    {
     "data": {
      "text/plain": [
       "                                                                               15841\n",
       "Parking                                                                         6154\n",
       "Parking,Storage                                                                 2115\n",
       "Gym,Pool                                                                        1870\n",
       "Pool                                                                            1478\n",
       "                                                                               ...  \n",
       "AC,Gated,Gym,Parking,Patio/Deck,Pool,Washer Dryer,Wood Floors                      1\n",
       "Gym,Parking,Tennis,Wood Floors                                                     1\n",
       "AC,Cable or Satellite,Clubhouse,Gym,Hot Tub,Parking,Patio/Deck,Wood Floors         1\n",
       "Clubhouse,Gym,Patio/Deck,Pool,Storage,Tennis                                       1\n",
       "Dishwasher,Doorman,Patio/Deck,Refrigerator,Storage,Washer Dryer,Wood Floors        1\n",
       "Name: amenities, Length: 9792, dtype: int64"
      ]
     },
     "execution_count": 25,
     "metadata": {},
     "output_type": "execute_result"
    }
   ],
   "source": [
    "df['amenities'].value_counts()"
   ]
  },
  {
   "cell_type": "markdown",
   "metadata": {},
   "source": [
    "### Chuyển tất cả về lower()"
   ]
  },
  {
   "cell_type": "code",
   "execution_count": 26,
   "metadata": {},
   "outputs": [
    {
     "data": {
      "text/html": [
       "<div>\n",
       "<style scoped>\n",
       "    .dataframe tbody tr th:only-of-type {\n",
       "        vertical-align: middle;\n",
       "    }\n",
       "\n",
       "    .dataframe tbody tr th {\n",
       "        vertical-align: top;\n",
       "    }\n",
       "\n",
       "    .dataframe thead th {\n",
       "        text-align: right;\n",
       "    }\n",
       "</style>\n",
       "<table border=\"1\" class=\"dataframe\">\n",
       "  <thead>\n",
       "    <tr style=\"text-align: right;\">\n",
       "      <th></th>\n",
       "      <th>category</th>\n",
       "      <th>amenities</th>\n",
       "      <th>bathrooms</th>\n",
       "      <th>bedrooms</th>\n",
       "      <th>fee</th>\n",
       "      <th>pets_allowed</th>\n",
       "      <th>price</th>\n",
       "      <th>square_feet</th>\n",
       "      <th>cityname</th>\n",
       "      <th>state</th>\n",
       "      <th>latitude</th>\n",
       "      <th>longitude</th>\n",
       "    </tr>\n",
       "    <tr>\n",
       "      <th>id</th>\n",
       "      <th></th>\n",
       "      <th></th>\n",
       "      <th></th>\n",
       "      <th></th>\n",
       "      <th></th>\n",
       "      <th></th>\n",
       "      <th></th>\n",
       "      <th></th>\n",
       "      <th></th>\n",
       "      <th></th>\n",
       "      <th></th>\n",
       "      <th></th>\n",
       "    </tr>\n",
       "  </thead>\n",
       "  <tbody>\n",
       "    <tr>\n",
       "      <th>5668640009</th>\n",
       "      <td>apartment</td>\n",
       "      <td></td>\n",
       "      <td>1.0</td>\n",
       "      <td>1.0</td>\n",
       "      <td>no</td>\n",
       "      <td>cats</td>\n",
       "      <td>2195.0</td>\n",
       "      <td>542</td>\n",
       "      <td>redondo beach</td>\n",
       "      <td>california</td>\n",
       "      <td>33.8520</td>\n",
       "      <td>-118.3759</td>\n",
       "    </tr>\n",
       "    <tr>\n",
       "      <th>5668639818</th>\n",
       "      <td>apartment</td>\n",
       "      <td></td>\n",
       "      <td>1.5</td>\n",
       "      <td>3.0</td>\n",
       "      <td>no</td>\n",
       "      <td>cats,dogs</td>\n",
       "      <td>1250.0</td>\n",
       "      <td>1500</td>\n",
       "      <td>newport news</td>\n",
       "      <td>virginia</td>\n",
       "      <td>37.0867</td>\n",
       "      <td>-76.4941</td>\n",
       "    </tr>\n",
       "    <tr>\n",
       "      <th>5668639686</th>\n",
       "      <td>apartment</td>\n",
       "      <td></td>\n",
       "      <td>2.0</td>\n",
       "      <td>3.0</td>\n",
       "      <td>no</td>\n",
       "      <td></td>\n",
       "      <td>1395.0</td>\n",
       "      <td>1650</td>\n",
       "      <td>raleigh</td>\n",
       "      <td>north carolina</td>\n",
       "      <td>35.8230</td>\n",
       "      <td>-78.6438</td>\n",
       "    </tr>\n",
       "    <tr>\n",
       "      <th>5668639659</th>\n",
       "      <td>apartment</td>\n",
       "      <td></td>\n",
       "      <td>1.0</td>\n",
       "      <td>2.0</td>\n",
       "      <td>no</td>\n",
       "      <td>cats,dogs</td>\n",
       "      <td>1600.0</td>\n",
       "      <td>820</td>\n",
       "      <td>vacaville</td>\n",
       "      <td>california</td>\n",
       "      <td>38.3622</td>\n",
       "      <td>-121.9712</td>\n",
       "    </tr>\n",
       "    <tr>\n",
       "      <th>5668639374</th>\n",
       "      <td>apartment</td>\n",
       "      <td></td>\n",
       "      <td>1.0</td>\n",
       "      <td>1.0</td>\n",
       "      <td>no</td>\n",
       "      <td>cats,dogs</td>\n",
       "      <td>975.0</td>\n",
       "      <td>624</td>\n",
       "      <td>albuquerque</td>\n",
       "      <td>new mexico</td>\n",
       "      <td>35.1038</td>\n",
       "      <td>-106.6110</td>\n",
       "    </tr>\n",
       "  </tbody>\n",
       "</table>\n",
       "</div>"
      ],
      "text/plain": [
       "             category amenities  bathrooms  bedrooms fee pets_allowed   price  \\\n",
       "id                                                                              \n",
       "5668640009  apartment                  1.0       1.0  no         cats  2195.0   \n",
       "5668639818  apartment                  1.5       3.0  no    cats,dogs  1250.0   \n",
       "5668639686  apartment                  2.0       3.0  no               1395.0   \n",
       "5668639659  apartment                  1.0       2.0  no    cats,dogs  1600.0   \n",
       "5668639374  apartment                  1.0       1.0  no    cats,dogs   975.0   \n",
       "\n",
       "            square_feet       cityname           state  latitude  longitude  \n",
       "id                                                                           \n",
       "5668640009          542  redondo beach      california   33.8520  -118.3759  \n",
       "5668639818         1500   newport news        virginia   37.0867   -76.4941  \n",
       "5668639686         1650        raleigh  north carolina   35.8230   -78.6438  \n",
       "5668639659          820      vacaville      california   38.3622  -121.9712  \n",
       "5668639374          624    albuquerque      new mexico   35.1038  -106.6110  "
      ]
     },
     "execution_count": 26,
     "metadata": {},
     "output_type": "execute_result"
    }
   ],
   "source": [
    "# Lấy tên của tất cả các cột có kiểu dữ liệu là object\n",
    "object_columns = df.select_dtypes(include='object').columns\n",
    "\n",
    "# Duyệt qua từng cột và chuyển đổi giá trị thành chữ thường\n",
    "for col in object_columns:\n",
    "    df[col] = df[col].str.lower()\n",
    "df.head()"
   ]
  },
  {
   "cell_type": "markdown",
   "metadata": {},
   "source": [
    "# 3. Tạo bộ Label Encoder để chuyển từ chữ sang số"
   ]
  },
  {
   "cell_type": "code",
   "execution_count": 27,
   "metadata": {},
   "outputs": [],
   "source": [
    "dict_label_encoder = {}\n",
    "features_label_encoder = ['category', 'fee', 'pets_allowed', 'cityname', 'state']\n",
    "for feature in features_label_encoder:\n",
    "    dict_label_encoder[feature] = LabelEncoder()\n",
    "    dict_label_encoder[feature].fit_transform(df[feature])\n",
    "\n",
    "# save file\n",
    "save_to_pickle_file(dict_label_encoder, '../processor/dict_label_encoder.pkl')"
   ]
  },
  {
   "cell_type": "code",
   "execution_count": 28,
   "metadata": {},
   "outputs": [
    {
     "data": {
      "text/html": [
       "<div>\n",
       "<style scoped>\n",
       "    .dataframe tbody tr th:only-of-type {\n",
       "        vertical-align: middle;\n",
       "    }\n",
       "\n",
       "    .dataframe tbody tr th {\n",
       "        vertical-align: top;\n",
       "    }\n",
       "\n",
       "    .dataframe thead th {\n",
       "        text-align: right;\n",
       "    }\n",
       "</style>\n",
       "<table border=\"1\" class=\"dataframe\">\n",
       "  <thead>\n",
       "    <tr style=\"text-align: right;\">\n",
       "      <th></th>\n",
       "      <th>category</th>\n",
       "      <th>amenities</th>\n",
       "      <th>bathrooms</th>\n",
       "      <th>bedrooms</th>\n",
       "      <th>fee</th>\n",
       "      <th>pets_allowed</th>\n",
       "      <th>price</th>\n",
       "      <th>square_feet</th>\n",
       "      <th>cityname</th>\n",
       "      <th>state</th>\n",
       "      <th>latitude</th>\n",
       "      <th>longitude</th>\n",
       "    </tr>\n",
       "    <tr>\n",
       "      <th>id</th>\n",
       "      <th></th>\n",
       "      <th></th>\n",
       "      <th></th>\n",
       "      <th></th>\n",
       "      <th></th>\n",
       "      <th></th>\n",
       "      <th></th>\n",
       "      <th></th>\n",
       "      <th></th>\n",
       "      <th></th>\n",
       "      <th></th>\n",
       "      <th></th>\n",
       "    </tr>\n",
       "  </thead>\n",
       "  <tbody>\n",
       "    <tr>\n",
       "      <th>5668640009</th>\n",
       "      <td>1</td>\n",
       "      <td></td>\n",
       "      <td>1.0</td>\n",
       "      <td>1.0</td>\n",
       "      <td>0</td>\n",
       "      <td>1</td>\n",
       "      <td>2195.0</td>\n",
       "      <td>542</td>\n",
       "      <td>2201</td>\n",
       "      <td>4</td>\n",
       "      <td>33.8520</td>\n",
       "      <td>-118.3759</td>\n",
       "    </tr>\n",
       "    <tr>\n",
       "      <th>5668639818</th>\n",
       "      <td>1</td>\n",
       "      <td></td>\n",
       "      <td>1.5</td>\n",
       "      <td>3.0</td>\n",
       "      <td>0</td>\n",
       "      <td>2</td>\n",
       "      <td>1250.0</td>\n",
       "      <td>1500</td>\n",
       "      <td>1833</td>\n",
       "      <td>45</td>\n",
       "      <td>37.0867</td>\n",
       "      <td>-76.4941</td>\n",
       "    </tr>\n",
       "    <tr>\n",
       "      <th>5668639686</th>\n",
       "      <td>1</td>\n",
       "      <td></td>\n",
       "      <td>2.0</td>\n",
       "      <td>3.0</td>\n",
       "      <td>0</td>\n",
       "      <td>0</td>\n",
       "      <td>1395.0</td>\n",
       "      <td>1650</td>\n",
       "      <td>2174</td>\n",
       "      <td>32</td>\n",
       "      <td>35.8230</td>\n",
       "      <td>-78.6438</td>\n",
       "    </tr>\n",
       "    <tr>\n",
       "      <th>5668639659</th>\n",
       "      <td>1</td>\n",
       "      <td></td>\n",
       "      <td>1.0</td>\n",
       "      <td>2.0</td>\n",
       "      <td>0</td>\n",
       "      <td>2</td>\n",
       "      <td>1600.0</td>\n",
       "      <td>820</td>\n",
       "      <td>2703</td>\n",
       "      <td>4</td>\n",
       "      <td>38.3622</td>\n",
       "      <td>-121.9712</td>\n",
       "    </tr>\n",
       "    <tr>\n",
       "      <th>5668639374</th>\n",
       "      <td>1</td>\n",
       "      <td></td>\n",
       "      <td>1.0</td>\n",
       "      <td>1.0</td>\n",
       "      <td>0</td>\n",
       "      <td>2</td>\n",
       "      <td>975.0</td>\n",
       "      <td>624</td>\n",
       "      <td>21</td>\n",
       "      <td>30</td>\n",
       "      <td>35.1038</td>\n",
       "      <td>-106.6110</td>\n",
       "    </tr>\n",
       "  </tbody>\n",
       "</table>\n",
       "</div>"
      ],
      "text/plain": [
       "            category amenities  bathrooms  bedrooms  fee  pets_allowed  \\\n",
       "id                                                                       \n",
       "5668640009         1                  1.0       1.0    0             1   \n",
       "5668639818         1                  1.5       3.0    0             2   \n",
       "5668639686         1                  2.0       3.0    0             0   \n",
       "5668639659         1                  1.0       2.0    0             2   \n",
       "5668639374         1                  1.0       1.0    0             2   \n",
       "\n",
       "             price  square_feet  cityname  state  latitude  longitude  \n",
       "id                                                                     \n",
       "5668640009  2195.0          542      2201      4   33.8520  -118.3759  \n",
       "5668639818  1250.0         1500      1833     45   37.0867   -76.4941  \n",
       "5668639686  1395.0         1650      2174     32   35.8230   -78.6438  \n",
       "5668639659  1600.0          820      2703      4   38.3622  -121.9712  \n",
       "5668639374   975.0          624        21     30   35.1038  -106.6110  "
      ]
     },
     "execution_count": 28,
     "metadata": {},
     "output_type": "execute_result"
    }
   ],
   "source": [
    "features_label_encoder = ['category', 'fee', 'pets_allowed', 'cityname', 'state']\n",
    "for feature in features_label_encoder:\n",
    "    df[feature] = dict_label_encoder[feature].transform(df[feature])\n",
    "df.head()"
   ]
  },
  {
   "cell_type": "markdown",
   "metadata": {},
   "source": [
    "# 4. Tạo bộ Tokenizer để cho các dữ liệu phân loại"
   ]
  },
  {
   "cell_type": "code",
   "execution_count": 29,
   "metadata": {},
   "outputs": [
    {
     "name": "stdout",
     "output_type": "stream",
     "text": [
      "amenities_tokenizer - vocab_size:  35\n"
     ]
    }
   ],
   "source": [
    "tokenizer = Tokenizer(filters=',')\n",
    "tokenizer.fit_on_texts(df['amenities'].values)\n",
    "\n",
    "# Kích thước từ vựng\n",
    "vocab_size = len(tokenizer.word_index) + 1\n",
    "\n",
    "amenities_tokenizer = {\n",
    "        'tokenizer': tokenizer,\n",
    "        'vocab_size': vocab_size,\n",
    "    }\n",
    "# save file\n",
    "save_to_pickle_file(amenities_tokenizer, '../processor/amenities_tokenizer.pkl')\n",
    "print('amenities_tokenizer - vocab_size: ', amenities_tokenizer['vocab_size'])"
   ]
  },
  {
   "cell_type": "markdown",
   "metadata": {},
   "source": [
    "# 5. Tạo embedding_model"
   ]
  },
  {
   "cell_type": "code",
   "execution_count": 30,
   "metadata": {},
   "outputs": [
    {
     "name": "stdout",
     "output_type": "stream",
     "text": [
      "WARNING:tensorflow:Compiled the loaded model, but the compiled metrics have yet to be built. `model.compile_metrics` will be empty until you train or evaluate the model.\n"
     ]
    }
   ],
   "source": [
    "embedding_model = Sequential()\n",
    "embedding_model.add(Embedding(input_dim=vocab_size, output_dim=16, input_length=vocab_size))\n",
    "embedding_model.add(Flatten())\n",
    "embedding_model.add(Dense(3, activation='linear')) \n",
    "\n",
    "embedding_model.save('../processor/embedding_model.h5')"
   ]
  },
  {
   "cell_type": "markdown",
   "metadata": {},
   "source": [
    "# 6. Sử dụng correlation để lựa chọn các đặc trưng"
   ]
  },
  {
   "cell_type": "code",
   "execution_count": 31,
   "metadata": {},
   "outputs": [
    {
     "data": {
      "image/png": "[encoded data removed]",
      "text/plain": [
       "<Figure size 1440x576 with 2 Axes>"
      ]
     },
     "metadata": {
      "needs_background": "light"
     },
     "output_type": "display_data"
    }
   ],
   "source": [
    "correlation_matrix = df.corr()\n",
    "\n",
    "plt.figure(figsize=(20, 8))\n",
    "sns.heatmap(correlation_matrix, annot=True, cmap='coolwarm', fmt=\".3f\")\n",
    "plt.title('Correlation Matrix')\n",
    "plt.show()"
   ]
  },
  {
   "cell_type": "markdown",
   "metadata": {},
   "source": [
    "- Giữa category và price có mối tương quan âm rất thấp (-0.001) nên có thể thấy category không ảnh hưởng quá nhiều đến kết quả price. Điều này có thể dễ hiểu vì cột fee bị mất cân bằng dữ liệu rất nhiều.\n",
    "- Giữa bathrooms và price có mối tương quan dương yếu (0.33) điều này cho thấy một căn hộ có nhiều phòng tắm thì giá của căn hộ đó cũng sẽ cao.\n",
    "- Giữa bedrooms và price có mối tương quan dương yếu (0.237) điều này cho thấy một căn hộ có nhiều phòng ngủ thì giá của căn hộ đó cũng sẽ cao.\n",
    "- Giữa fee và price có mối tương quan dương rất thấp (0.022) nên có thể thấy với bộ dữ liệu của chúng ta thì fee sẽ không ảnh hưởng quá nhiều đến kết quả price. Điều này có thể dễ hiểu vì cột fee bị mất cân bằng dữ liệu rất nhiều.\n",
    "- Giữa pets_allowed và price có mối tương quan âm rất thấp (-0.052) nên có thể thấy pets_allowed không ảnh hưởng quá nhiều đến kết quả price. Điều này cho biết với bộ dữ liệu của chúng ta việc một căn hộ có cho nuôi thú cưng hay không sẽ không ảnh hưởng quá nhiều đến kết quả.\n",
    "- Giữa square_feet và price có mối tương quan dương khá cao (0.413) điều này cho thấy một căn hộ có diện tích lớn thì giá của căn hộ đó cũng sẽ cao và ngược lại.\n",
    "- Giữa cityname và price có mối tương quan dương rất thấp (-0.008) điều này cho thấy với bộ dữ liệu này việc một căn hộ ở thành phố nào sẽ không ảnh hưởng quá nhiều đến giá nhà.\n",
    "- Giữa state và price có mối tương quan âm yếu (-0.19) điều này cho thấy một căn hộ ở state nào cũng sẽ có ảnh hưởng đến giá của nó.\n",
    "- Còn về latitude và longitude thì 2 cột này đi chung với nhau nên sẽ không sử dụng correlation để lựa chọn đặc trưng. Nhưng ta có thể ngầm hiểu 1 việc rằng state có ảnh hưởng đến price và latitude, longitude chính là tọa độ của căn hộ nên nó cũng sẽ ảnh hưởng đến price.\n",
    "- Còn về cột amenities do là thuộc loại category nên cũng sẽ không sử dụng phương pháp này, nhưng với kiến thức thông thường của chúng ta có thể hiểu được một căn hộ khi có nhiều tiện ích thì giá nó cũng sẽ cao hơn.\n",
    "\n",
    "=> Chọn cột bathrooms, bedrooms, square_feet, state, amenities, latitude, longitude"
   ]
  },
  {
   "cell_type": "code",
   "execution_count": 32,
   "metadata": {},
   "outputs": [
    {
     "data": {
      "text/html": [
       "<div>\n",
       "<style scoped>\n",
       "    .dataframe tbody tr th:only-of-type {\n",
       "        vertical-align: middle;\n",
       "    }\n",
       "\n",
       "    .dataframe tbody tr th {\n",
       "        vertical-align: top;\n",
       "    }\n",
       "\n",
       "    .dataframe thead th {\n",
       "        text-align: right;\n",
       "    }\n",
       "</style>\n",
       "<table border=\"1\" class=\"dataframe\">\n",
       "  <thead>\n",
       "    <tr style=\"text-align: right;\">\n",
       "      <th></th>\n",
       "      <th>bathrooms</th>\n",
       "      <th>bedrooms</th>\n",
       "      <th>square_feet</th>\n",
       "      <th>state</th>\n",
       "      <th>amenities</th>\n",
       "      <th>latitude</th>\n",
       "      <th>longitude</th>\n",
       "      <th>price</th>\n",
       "    </tr>\n",
       "    <tr>\n",
       "      <th>id</th>\n",
       "      <th></th>\n",
       "      <th></th>\n",
       "      <th></th>\n",
       "      <th></th>\n",
       "      <th></th>\n",
       "      <th></th>\n",
       "      <th></th>\n",
       "      <th></th>\n",
       "    </tr>\n",
       "  </thead>\n",
       "  <tbody>\n",
       "    <tr>\n",
       "      <th>5668640009</th>\n",
       "      <td>1.0</td>\n",
       "      <td>1.0</td>\n",
       "      <td>542</td>\n",
       "      <td>4</td>\n",
       "      <td></td>\n",
       "      <td>33.8520</td>\n",
       "      <td>-118.3759</td>\n",
       "      <td>2195.0</td>\n",
       "    </tr>\n",
       "    <tr>\n",
       "      <th>5668639818</th>\n",
       "      <td>1.5</td>\n",
       "      <td>3.0</td>\n",
       "      <td>1500</td>\n",
       "      <td>45</td>\n",
       "      <td></td>\n",
       "      <td>37.0867</td>\n",
       "      <td>-76.4941</td>\n",
       "      <td>1250.0</td>\n",
       "    </tr>\n",
       "    <tr>\n",
       "      <th>5668639686</th>\n",
       "      <td>2.0</td>\n",
       "      <td>3.0</td>\n",
       "      <td>1650</td>\n",
       "      <td>32</td>\n",
       "      <td></td>\n",
       "      <td>35.8230</td>\n",
       "      <td>-78.6438</td>\n",
       "      <td>1395.0</td>\n",
       "    </tr>\n",
       "    <tr>\n",
       "      <th>5668639659</th>\n",
       "      <td>1.0</td>\n",
       "      <td>2.0</td>\n",
       "      <td>820</td>\n",
       "      <td>4</td>\n",
       "      <td></td>\n",
       "      <td>38.3622</td>\n",
       "      <td>-121.9712</td>\n",
       "      <td>1600.0</td>\n",
       "    </tr>\n",
       "    <tr>\n",
       "      <th>5668639374</th>\n",
       "      <td>1.0</td>\n",
       "      <td>1.0</td>\n",
       "      <td>624</td>\n",
       "      <td>30</td>\n",
       "      <td></td>\n",
       "      <td>35.1038</td>\n",
       "      <td>-106.6110</td>\n",
       "      <td>975.0</td>\n",
       "    </tr>\n",
       "  </tbody>\n",
       "</table>\n",
       "</div>"
      ],
      "text/plain": [
       "            bathrooms  bedrooms  square_feet  state amenities  latitude  \\\n",
       "id                                                                        \n",
       "5668640009        1.0       1.0          542      4             33.8520   \n",
       "5668639818        1.5       3.0         1500     45             37.0867   \n",
       "5668639686        2.0       3.0         1650     32             35.8230   \n",
       "5668639659        1.0       2.0          820      4             38.3622   \n",
       "5668639374        1.0       1.0          624     30             35.1038   \n",
       "\n",
       "            longitude   price  \n",
       "id                             \n",
       "5668640009  -118.3759  2195.0  \n",
       "5668639818   -76.4941  1250.0  \n",
       "5668639686   -78.6438  1395.0  \n",
       "5668639659  -121.9712  1600.0  \n",
       "5668639374  -106.6110   975.0  "
      ]
     },
     "execution_count": 32,
     "metadata": {},
     "output_type": "execute_result"
    }
   ],
   "source": [
    "df = df[['bathrooms', 'bedrooms', 'square_feet', 'state', 'amenities', 'latitude', 'longitude', 'price']]\n",
    "df.head()"
   ]
  },
  {
   "cell_type": "markdown",
   "metadata": {},
   "source": [
    "# 6. Chia tập train, test"
   ]
  },
  {
   "cell_type": "code",
   "execution_count": 33,
   "metadata": {},
   "outputs": [],
   "source": [
    "# Lấy mẫu ngẫu nhiên cho bộ train\n",
    "df_train = df.sample(n=int(len(df) * 0.8), random_state=42)\n",
    "\n",
    "# Bộ test là những mẫu không thuộc bộ train\n",
    "df_test = df.drop(df_train.index)\n",
    "\n",
    "# Reset index nếu bạn muốn có index liên tục\n",
    "df_train.reset_index(drop=True, inplace=True)\n",
    "df_test.reset_index(drop=True, inplace=True)\n",
    "\n",
    "df_train.to_csv('../dataset preprocessed/data_train.csv', index=False)\n",
    "df_test.to_csv('../dataset preprocessed/data_test.csv', index=False)"
   ]
  },
  {
   "cell_type": "code",
   "execution_count": 34,
   "metadata": {},
   "outputs": [
    {
     "data": {
      "text/plain": [
       "(79205, 8)"
      ]
     },
     "execution_count": 34,
     "metadata": {},
     "output_type": "execute_result"
    }
   ],
   "source": [
    "df_train.shape"
   ]
  },
  {
   "cell_type": "code",
   "execution_count": 35,
   "metadata": {},
   "outputs": [
    {
     "data": {
      "text/plain": [
       "(19783, 8)"
      ]
     },
     "execution_count": 35,
     "metadata": {},
     "output_type": "execute_result"
    }
   ],
   "source": [
    "df_test.shape"
   ]
  },
  {
   "cell_type": "markdown",
   "metadata": {},
   "source": [
    "# Check outlier"
   ]
  },
  {
   "cell_type": "code",
   "execution_count": 36,
   "metadata": {},
   "outputs": [
    {
     "data": {
      "image/png": "[encoded data removed]",
      "text/plain": [
       "<Figure size 1080x720 with 1 Axes>"
      ]
     },
     "metadata": {
      "needs_background": "light"
     },
     "output_type": "display_data"
    }
   ],
   "source": [
    "# Vẽ boxplot\n",
    "plt.figure(figsize=(15,10))\n",
    "sns.boxplot(x=df['price'])\n",
    "plt.show()"
   ]
  },
  {
   "cell_type": "code",
   "execution_count": 37,
   "metadata": {},
   "outputs": [
    {
     "data": {
      "image/png": "[encoded data removed]",
      "text/plain": [
       "<Figure size 1080x720 with 1 Axes>"
      ]
     },
     "metadata": {
      "needs_background": "light"
     },
     "output_type": "display_data"
    }
   ],
   "source": [
    "# Vẽ boxplot\n",
    "plt.figure(figsize=(15,10))\n",
    "sns.boxplot(x=df_train['price'])\n",
    "plt.show()"
   ]
  },
  {
   "cell_type": "code",
   "execution_count": 38,
   "metadata": {},
   "outputs": [
    {
     "data": {
      "image/png": "[encoded data removed]",
      "text/plain": [
       "<Figure size 1080x720 with 1 Axes>"
      ]
     },
     "metadata": {
      "needs_background": "light"
     },
     "output_type": "display_data"
    }
   ],
   "source": [
    "# Vẽ boxplot\n",
    "plt.figure(figsize=(15,10))\n",
    "sns.boxplot(x=df_test['price'])\n",
    "plt.show()"
   ]
  }
 ],
 "metadata": {
  "kernelspec": {
   "display_name": "Python 3",
   "language": "python",
   "name": "python3"
  },
  "language_info": {
   "codemirror_mode": {
    "name": "ipython",
    "version": 3
   },
   "file_extension": ".py",
   "mimetype": "text/x-python",
   "name": "python",
   "nbconvert_exporter": "python",
   "pygments_lexer": "ipython3",
   "version": "3.10.4"
  },
  "orig_nbformat": 4
 },
 "nbformat": 4,
 "nbformat_minor": 2
}
